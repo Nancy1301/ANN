{
  "nbformat": 4,
  "nbformat_minor": 0,
  "metadata": {
    "colab": {
      "name": "Artificial Neural Network.ipynb",
      "provenance": [],
      "collapsed_sections": []
    },
    "kernelspec": {
      "name": "python3",
      "display_name": "Python 3"
    }
  },
  "cells": [
    {
      "cell_type": "code",
      "metadata": {
        "id": "9Tg53qiYIVyq"
      },
      "source": [
        "# Artificial Neural Network\r\n",
        "\r\n",
        "\r\n",
        "# Part 1 - Data Preprocessing\r\n",
        "\r\n",
        "# Importing the libraries\r\n",
        "import numpy as np\r\n",
        "import matplotlib.pyplot as plt\r\n",
        "import pandas as pd\r\n",
        "\r\n",
        "# Importing the dataset\r\n",
        "dataset = pd.read_csv('Churn_Modelling.csv')\r\n",
        "X = dataset.iloc[:, 3:13]\r\n",
        "y = dataset.iloc[:, 13]\r\n",
        "\r\n"
      ],
      "execution_count": 3,
      "outputs": []
    },
    {
      "cell_type": "code",
      "metadata": {
        "id": "LKWO9qdUIYdP"
      },
      "source": [
        "#Create dummy variables\r\n",
        "geography=pd.get_dummies(X[\"Geography\"],drop_first=True)\r\n",
        "gender=pd.get_dummies(X['Gender'],drop_first=True)\r\n",
        "\r\n",
        "## Concatenate the Data Frames\r\n",
        "\r\n",
        "X=pd.concat([X,geography,gender],axis=1)\r\n",
        "\r\n",
        "## Drop Unnecessary columns\r\n",
        "X=X.drop(['Geography','Gender'],axis=1)\r\n",
        "\r\n"
      ],
      "execution_count": 4,
      "outputs": []
    },
    {
      "cell_type": "code",
      "metadata": {
        "id": "WTk0bJJsKiqM"
      },
      "source": [
        "# Splitting the dataset into the Training set and Test set\r\n",
        "from sklearn.model_selection import train_test_split\r\n",
        "X_train, X_test, y_train, y_test = train_test_split(X, y, test_size = 0.2, random_state = 0)\r\n",
        "\r\n"
      ],
      "execution_count": 5,
      "outputs": []
    },
    {
      "cell_type": "code",
      "metadata": {
        "id": "TogHOk3SK3K7"
      },
      "source": [
        "# Feature Scaling\r\n",
        "from sklearn.preprocessing import StandardScaler\r\n",
        "sc = StandardScaler()\r\n",
        "X_train = sc.fit_transform(X_train)\r\n",
        "X_test = sc.transform(X_test)\r\n",
        "\r\n"
      ],
      "execution_count": 6,
      "outputs": []
    },
    {
      "cell_type": "code",
      "metadata": {
        "id": "WjzBcW6iM0WN"
      },
      "source": [
        "# Part 2 - Now let's make the ANN!\r\n",
        "\r\n",
        "# Importing the Keras libraries and packages\r\n",
        "import keras\r\n",
        "from keras.models import Sequential\r\n",
        "from keras.layers import Dense\r\n",
        "# from keras.layers import LeakyReLU,PReLU,ELU\r\n",
        "from keras.layers import Dropout\r\n",
        "\r\n",
        "\r\n",
        "# Initialising the ANN\r\n",
        "classifier = Sequential()\r\n",
        "\r\n",
        "# Adding the input layer and the first hidden layer\r\n",
        "classifier.add(Dense(units=6,  kernel_initializer='he_uniform', activation='relu', input_dim = 11 ))\r\n",
        "\r\n",
        "# Adding the second hidden layer\r\n",
        "classifier.add(Dense(units= 6, kernel_initializer ='he_uniform',activation='relu'))\r\n",
        "# Adding the output layer\r\n",
        "classifier.add(Dense(units= 1, kernel_initializer= 'glorot_uniform', activation = 'sigmoid'))\r\n",
        "\r\n"
      ],
      "execution_count": 15,
      "outputs": []
    },
    {
      "cell_type": "code",
      "metadata": {
        "colab": {
          "base_uri": "https://localhost:8080/"
        },
        "id": "_owNw9uRQpfw",
        "outputId": "0505623f-5989-4309-d7c7-c20ee579f661"
      },
      "source": [
        "classifier.summary()"
      ],
      "execution_count": 16,
      "outputs": [
        {
          "output_type": "stream",
          "text": [
            "Model: \"sequential_7\"\n",
            "_________________________________________________________________\n",
            "Layer (type)                 Output Shape              Param #   \n",
            "=================================================================\n",
            "dense_2 (Dense)              (None, 6)                 72        \n",
            "_________________________________________________________________\n",
            "dense_3 (Dense)              (None, 6)                 42        \n",
            "_________________________________________________________________\n",
            "dense_4 (Dense)              (None, 1)                 7         \n",
            "=================================================================\n",
            "Total params: 121\n",
            "Trainable params: 121\n",
            "Non-trainable params: 0\n",
            "_________________________________________________________________\n"
          ],
          "name": "stdout"
        }
      ]
    },
    {
      "cell_type": "code",
      "metadata": {
        "id": "_ShHDj1nNnAa"
      },
      "source": [
        "# Compiling the ANN\r\n",
        "classifier.compile(optimizer = 'Adamax', loss = 'binary_crossentropy', metrics = ['accuracy'])\r\n",
        "\r\n"
      ],
      "execution_count": 24,
      "outputs": []
    },
    {
      "cell_type": "code",
      "metadata": {
        "colab": {
          "base_uri": "https://localhost:8080/"
        },
        "id": "wqhuK82bRCdM",
        "outputId": "4acbde38-0913-412a-bcba-cc99146e3dc5"
      },
      "source": [
        "# Fitting the ANN to the Training set\r\n",
        "model_history=classifier.fit(X_train, y_train,validation_split=0.33, batch_size = 10, epochs= 100)\r\n",
        "\r\n"
      ],
      "execution_count": 25,
      "outputs": [
        {
          "output_type": "stream",
          "text": [
            "Epoch 1/100\n",
            "536/536 [==============================] - 1s 2ms/step - loss: 0.3278 - accuracy: 0.8646 - val_loss: 0.3637 - val_accuracy: 0.8516\n",
            "Epoch 2/100\n",
            "536/536 [==============================] - 1s 2ms/step - loss: 0.3395 - accuracy: 0.8589 - val_loss: 0.3638 - val_accuracy: 0.8523\n",
            "Epoch 3/100\n",
            "536/536 [==============================] - 1s 2ms/step - loss: 0.3284 - accuracy: 0.8623 - val_loss: 0.3642 - val_accuracy: 0.8501\n",
            "Epoch 4/100\n",
            "536/536 [==============================] - 1s 2ms/step - loss: 0.3381 - accuracy: 0.8592 - val_loss: 0.3634 - val_accuracy: 0.8508\n",
            "Epoch 5/100\n",
            "536/536 [==============================] - 1s 2ms/step - loss: 0.3251 - accuracy: 0.8598 - val_loss: 0.3634 - val_accuracy: 0.8508\n",
            "Epoch 6/100\n",
            "536/536 [==============================] - 1s 2ms/step - loss: 0.3403 - accuracy: 0.8552 - val_loss: 0.3636 - val_accuracy: 0.8493\n",
            "Epoch 7/100\n",
            "536/536 [==============================] - 1s 2ms/step - loss: 0.3229 - accuracy: 0.8676 - val_loss: 0.3639 - val_accuracy: 0.8516\n",
            "Epoch 8/100\n",
            "536/536 [==============================] - 1s 2ms/step - loss: 0.3295 - accuracy: 0.8625 - val_loss: 0.3633 - val_accuracy: 0.8501\n",
            "Epoch 9/100\n",
            "536/536 [==============================] - 1s 2ms/step - loss: 0.3220 - accuracy: 0.8665 - val_loss: 0.3632 - val_accuracy: 0.8493\n",
            "Epoch 10/100\n",
            "536/536 [==============================] - 1s 2ms/step - loss: 0.3335 - accuracy: 0.8628 - val_loss: 0.3626 - val_accuracy: 0.8508\n",
            "Epoch 11/100\n",
            "536/536 [==============================] - 1s 2ms/step - loss: 0.3424 - accuracy: 0.8589 - val_loss: 0.3626 - val_accuracy: 0.8516\n",
            "Epoch 12/100\n",
            "536/536 [==============================] - 1s 2ms/step - loss: 0.3223 - accuracy: 0.8677 - val_loss: 0.3625 - val_accuracy: 0.8519\n",
            "Epoch 13/100\n",
            "536/536 [==============================] - 1s 2ms/step - loss: 0.3293 - accuracy: 0.8636 - val_loss: 0.3624 - val_accuracy: 0.8508\n",
            "Epoch 14/100\n",
            "536/536 [==============================] - 1s 2ms/step - loss: 0.3336 - accuracy: 0.8679 - val_loss: 0.3622 - val_accuracy: 0.8519\n",
            "Epoch 15/100\n",
            "536/536 [==============================] - 1s 2ms/step - loss: 0.3387 - accuracy: 0.8562 - val_loss: 0.3624 - val_accuracy: 0.8512\n",
            "Epoch 16/100\n",
            "536/536 [==============================] - 1s 2ms/step - loss: 0.3262 - accuracy: 0.8661 - val_loss: 0.3620 - val_accuracy: 0.8504\n",
            "Epoch 17/100\n",
            "536/536 [==============================] - 1s 2ms/step - loss: 0.3438 - accuracy: 0.8600 - val_loss: 0.3622 - val_accuracy: 0.8508\n",
            "Epoch 18/100\n",
            "536/536 [==============================] - 1s 2ms/step - loss: 0.3534 - accuracy: 0.8543 - val_loss: 0.3617 - val_accuracy: 0.8501\n",
            "Epoch 19/100\n",
            "536/536 [==============================] - 1s 2ms/step - loss: 0.3328 - accuracy: 0.8616 - val_loss: 0.3621 - val_accuracy: 0.8504\n",
            "Epoch 20/100\n",
            "536/536 [==============================] - 1s 2ms/step - loss: 0.3333 - accuracy: 0.8604 - val_loss: 0.3614 - val_accuracy: 0.8527\n",
            "Epoch 21/100\n",
            "536/536 [==============================] - 1s 2ms/step - loss: 0.3275 - accuracy: 0.8661 - val_loss: 0.3618 - val_accuracy: 0.8516\n",
            "Epoch 22/100\n",
            "536/536 [==============================] - 1s 2ms/step - loss: 0.3282 - accuracy: 0.8632 - val_loss: 0.3614 - val_accuracy: 0.8516\n",
            "Epoch 23/100\n",
            "536/536 [==============================] - 1s 2ms/step - loss: 0.3335 - accuracy: 0.8648 - val_loss: 0.3622 - val_accuracy: 0.8508\n",
            "Epoch 24/100\n",
            "536/536 [==============================] - 1s 2ms/step - loss: 0.3330 - accuracy: 0.8590 - val_loss: 0.3615 - val_accuracy: 0.8516\n",
            "Epoch 25/100\n",
            "536/536 [==============================] - 1s 2ms/step - loss: 0.3309 - accuracy: 0.8632 - val_loss: 0.3613 - val_accuracy: 0.8523\n",
            "Epoch 26/100\n",
            "536/536 [==============================] - 1s 2ms/step - loss: 0.3247 - accuracy: 0.8636 - val_loss: 0.3615 - val_accuracy: 0.8516\n",
            "Epoch 27/100\n",
            "536/536 [==============================] - 1s 2ms/step - loss: 0.3265 - accuracy: 0.8645 - val_loss: 0.3616 - val_accuracy: 0.8516\n",
            "Epoch 28/100\n",
            "536/536 [==============================] - 1s 2ms/step - loss: 0.3227 - accuracy: 0.8663 - val_loss: 0.3614 - val_accuracy: 0.8519\n",
            "Epoch 29/100\n",
            "536/536 [==============================] - 1s 2ms/step - loss: 0.3211 - accuracy: 0.8652 - val_loss: 0.3610 - val_accuracy: 0.8519\n",
            "Epoch 30/100\n",
            "536/536 [==============================] - 1s 2ms/step - loss: 0.3284 - accuracy: 0.8623 - val_loss: 0.3610 - val_accuracy: 0.8523\n",
            "Epoch 31/100\n",
            "536/536 [==============================] - 1s 2ms/step - loss: 0.3233 - accuracy: 0.8650 - val_loss: 0.3627 - val_accuracy: 0.8531\n",
            "Epoch 32/100\n",
            "536/536 [==============================] - 1s 2ms/step - loss: 0.3084 - accuracy: 0.8719 - val_loss: 0.3611 - val_accuracy: 0.8527\n",
            "Epoch 33/100\n",
            "536/536 [==============================] - 1s 2ms/step - loss: 0.3341 - accuracy: 0.8636 - val_loss: 0.3608 - val_accuracy: 0.8527\n",
            "Epoch 34/100\n",
            "536/536 [==============================] - 1s 2ms/step - loss: 0.3265 - accuracy: 0.8655 - val_loss: 0.3615 - val_accuracy: 0.8508\n",
            "Epoch 35/100\n",
            "536/536 [==============================] - 1s 2ms/step - loss: 0.3168 - accuracy: 0.8716 - val_loss: 0.3610 - val_accuracy: 0.8512\n",
            "Epoch 36/100\n",
            "536/536 [==============================] - 1s 2ms/step - loss: 0.3373 - accuracy: 0.8643 - val_loss: 0.3605 - val_accuracy: 0.8531\n",
            "Epoch 37/100\n",
            "536/536 [==============================] - 1s 2ms/step - loss: 0.3332 - accuracy: 0.8651 - val_loss: 0.3607 - val_accuracy: 0.8527\n",
            "Epoch 38/100\n",
            "536/536 [==============================] - 1s 2ms/step - loss: 0.3292 - accuracy: 0.8628 - val_loss: 0.3607 - val_accuracy: 0.8527\n",
            "Epoch 39/100\n",
            "536/536 [==============================] - 1s 2ms/step - loss: 0.3341 - accuracy: 0.8621 - val_loss: 0.3606 - val_accuracy: 0.8531\n",
            "Epoch 40/100\n",
            "536/536 [==============================] - 1s 2ms/step - loss: 0.3167 - accuracy: 0.8700 - val_loss: 0.3604 - val_accuracy: 0.8523\n",
            "Epoch 41/100\n",
            "536/536 [==============================] - 1s 2ms/step - loss: 0.3324 - accuracy: 0.8615 - val_loss: 0.3601 - val_accuracy: 0.8527\n",
            "Epoch 42/100\n",
            "536/536 [==============================] - 1s 2ms/step - loss: 0.3374 - accuracy: 0.8614 - val_loss: 0.3611 - val_accuracy: 0.8519\n",
            "Epoch 43/100\n",
            "536/536 [==============================] - 1s 2ms/step - loss: 0.3185 - accuracy: 0.8702 - val_loss: 0.3606 - val_accuracy: 0.8527\n",
            "Epoch 44/100\n",
            "536/536 [==============================] - 1s 2ms/step - loss: 0.3316 - accuracy: 0.8597 - val_loss: 0.3603 - val_accuracy: 0.8523\n",
            "Epoch 45/100\n",
            "536/536 [==============================] - 1s 2ms/step - loss: 0.3411 - accuracy: 0.8546 - val_loss: 0.3608 - val_accuracy: 0.8519\n",
            "Epoch 46/100\n",
            "536/536 [==============================] - 1s 2ms/step - loss: 0.3360 - accuracy: 0.8677 - val_loss: 0.3609 - val_accuracy: 0.8523\n",
            "Epoch 47/100\n",
            "536/536 [==============================] - 1s 2ms/step - loss: 0.3324 - accuracy: 0.8586 - val_loss: 0.3602 - val_accuracy: 0.8527\n",
            "Epoch 48/100\n",
            "536/536 [==============================] - 1s 2ms/step - loss: 0.3325 - accuracy: 0.8616 - val_loss: 0.3605 - val_accuracy: 0.8519\n",
            "Epoch 49/100\n",
            "536/536 [==============================] - 1s 2ms/step - loss: 0.3301 - accuracy: 0.8581 - val_loss: 0.3610 - val_accuracy: 0.8527\n",
            "Epoch 50/100\n",
            "536/536 [==============================] - 1s 2ms/step - loss: 0.3336 - accuracy: 0.8590 - val_loss: 0.3603 - val_accuracy: 0.8531\n",
            "Epoch 51/100\n",
            "536/536 [==============================] - 1s 2ms/step - loss: 0.3307 - accuracy: 0.8666 - val_loss: 0.3605 - val_accuracy: 0.8531\n",
            "Epoch 52/100\n",
            "536/536 [==============================] - 1s 2ms/step - loss: 0.3204 - accuracy: 0.8668 - val_loss: 0.3599 - val_accuracy: 0.8516\n",
            "Epoch 53/100\n",
            "536/536 [==============================] - 1s 2ms/step - loss: 0.3263 - accuracy: 0.8664 - val_loss: 0.3615 - val_accuracy: 0.8508\n",
            "Epoch 54/100\n",
            "536/536 [==============================] - 1s 2ms/step - loss: 0.3290 - accuracy: 0.8629 - val_loss: 0.3601 - val_accuracy: 0.8531\n",
            "Epoch 55/100\n",
            "536/536 [==============================] - 1s 2ms/step - loss: 0.3241 - accuracy: 0.8643 - val_loss: 0.3608 - val_accuracy: 0.8538\n",
            "Epoch 56/100\n",
            "536/536 [==============================] - 1s 2ms/step - loss: 0.3259 - accuracy: 0.8607 - val_loss: 0.3605 - val_accuracy: 0.8538\n",
            "Epoch 57/100\n",
            "536/536 [==============================] - 1s 2ms/step - loss: 0.3252 - accuracy: 0.8622 - val_loss: 0.3606 - val_accuracy: 0.8535\n",
            "Epoch 58/100\n",
            "536/536 [==============================] - 1s 2ms/step - loss: 0.3312 - accuracy: 0.8664 - val_loss: 0.3601 - val_accuracy: 0.8519\n",
            "Epoch 59/100\n",
            "536/536 [==============================] - 1s 2ms/step - loss: 0.3290 - accuracy: 0.8622 - val_loss: 0.3609 - val_accuracy: 0.8535\n",
            "Epoch 60/100\n",
            "536/536 [==============================] - 1s 2ms/step - loss: 0.3257 - accuracy: 0.8628 - val_loss: 0.3598 - val_accuracy: 0.8512\n",
            "Epoch 61/100\n",
            "536/536 [==============================] - 1s 2ms/step - loss: 0.3113 - accuracy: 0.8747 - val_loss: 0.3604 - val_accuracy: 0.8535\n",
            "Epoch 62/100\n",
            "536/536 [==============================] - 1s 2ms/step - loss: 0.3220 - accuracy: 0.8707 - val_loss: 0.3606 - val_accuracy: 0.8527\n",
            "Epoch 63/100\n",
            "536/536 [==============================] - 1s 2ms/step - loss: 0.3271 - accuracy: 0.8615 - val_loss: 0.3598 - val_accuracy: 0.8523\n",
            "Epoch 64/100\n",
            "536/536 [==============================] - 1s 2ms/step - loss: 0.3403 - accuracy: 0.8634 - val_loss: 0.3601 - val_accuracy: 0.8535\n",
            "Epoch 65/100\n",
            "536/536 [==============================] - 1s 2ms/step - loss: 0.3349 - accuracy: 0.8554 - val_loss: 0.3599 - val_accuracy: 0.8535\n",
            "Epoch 66/100\n",
            "536/536 [==============================] - 1s 2ms/step - loss: 0.3300 - accuracy: 0.8628 - val_loss: 0.3597 - val_accuracy: 0.8516\n",
            "Epoch 67/100\n",
            "536/536 [==============================] - 1s 2ms/step - loss: 0.3319 - accuracy: 0.8646 - val_loss: 0.3602 - val_accuracy: 0.8527\n",
            "Epoch 68/100\n",
            "536/536 [==============================] - 1s 2ms/step - loss: 0.3307 - accuracy: 0.8632 - val_loss: 0.3598 - val_accuracy: 0.8535\n",
            "Epoch 69/100\n",
            "536/536 [==============================] - 1s 2ms/step - loss: 0.3205 - accuracy: 0.8722 - val_loss: 0.3596 - val_accuracy: 0.8523\n",
            "Epoch 70/100\n",
            "536/536 [==============================] - 1s 2ms/step - loss: 0.3227 - accuracy: 0.8665 - val_loss: 0.3601 - val_accuracy: 0.8535\n",
            "Epoch 71/100\n",
            "536/536 [==============================] - 1s 2ms/step - loss: 0.3394 - accuracy: 0.8590 - val_loss: 0.3596 - val_accuracy: 0.8527\n",
            "Epoch 72/100\n",
            "536/536 [==============================] - 1s 2ms/step - loss: 0.3267 - accuracy: 0.8633 - val_loss: 0.3596 - val_accuracy: 0.8531\n",
            "Epoch 73/100\n",
            "536/536 [==============================] - 1s 2ms/step - loss: 0.3277 - accuracy: 0.8626 - val_loss: 0.3592 - val_accuracy: 0.8527\n",
            "Epoch 74/100\n",
            "536/536 [==============================] - 1s 2ms/step - loss: 0.3303 - accuracy: 0.8657 - val_loss: 0.3593 - val_accuracy: 0.8527\n",
            "Epoch 75/100\n",
            "536/536 [==============================] - 1s 2ms/step - loss: 0.3195 - accuracy: 0.8668 - val_loss: 0.3592 - val_accuracy: 0.8538\n",
            "Epoch 76/100\n",
            "536/536 [==============================] - 1s 2ms/step - loss: 0.3191 - accuracy: 0.8643 - val_loss: 0.3590 - val_accuracy: 0.8516\n",
            "Epoch 77/100\n",
            "536/536 [==============================] - 1s 2ms/step - loss: 0.3384 - accuracy: 0.8566 - val_loss: 0.3590 - val_accuracy: 0.8519\n",
            "Epoch 78/100\n",
            "536/536 [==============================] - 1s 2ms/step - loss: 0.3342 - accuracy: 0.8614 - val_loss: 0.3597 - val_accuracy: 0.8542\n",
            "Epoch 79/100\n",
            "536/536 [==============================] - 1s 2ms/step - loss: 0.3377 - accuracy: 0.8595 - val_loss: 0.3589 - val_accuracy: 0.8519\n",
            "Epoch 80/100\n",
            "536/536 [==============================] - 1s 2ms/step - loss: 0.3350 - accuracy: 0.8605 - val_loss: 0.3588 - val_accuracy: 0.8535\n",
            "Epoch 81/100\n",
            "536/536 [==============================] - 1s 2ms/step - loss: 0.3355 - accuracy: 0.8609 - val_loss: 0.3589 - val_accuracy: 0.8538\n",
            "Epoch 82/100\n",
            "536/536 [==============================] - 1s 2ms/step - loss: 0.3182 - accuracy: 0.8616 - val_loss: 0.3588 - val_accuracy: 0.8527\n",
            "Epoch 83/100\n",
            "536/536 [==============================] - 1s 2ms/step - loss: 0.3271 - accuracy: 0.8629 - val_loss: 0.3595 - val_accuracy: 0.8531\n",
            "Epoch 84/100\n",
            "536/536 [==============================] - 1s 2ms/step - loss: 0.3162 - accuracy: 0.8738 - val_loss: 0.3585 - val_accuracy: 0.8527\n",
            "Epoch 85/100\n",
            "536/536 [==============================] - 1s 2ms/step - loss: 0.3321 - accuracy: 0.8629 - val_loss: 0.3587 - val_accuracy: 0.8512\n",
            "Epoch 86/100\n",
            "536/536 [==============================] - 1s 2ms/step - loss: 0.3197 - accuracy: 0.8698 - val_loss: 0.3585 - val_accuracy: 0.8527\n",
            "Epoch 87/100\n",
            "536/536 [==============================] - 1s 2ms/step - loss: 0.3155 - accuracy: 0.8696 - val_loss: 0.3589 - val_accuracy: 0.8531\n",
            "Epoch 88/100\n",
            "536/536 [==============================] - 1s 2ms/step - loss: 0.3483 - accuracy: 0.8565 - val_loss: 0.3585 - val_accuracy: 0.8519\n",
            "Epoch 89/100\n",
            "536/536 [==============================] - 1s 2ms/step - loss: 0.3259 - accuracy: 0.8635 - val_loss: 0.3588 - val_accuracy: 0.8546\n",
            "Epoch 90/100\n",
            "536/536 [==============================] - 1s 2ms/step - loss: 0.3286 - accuracy: 0.8590 - val_loss: 0.3594 - val_accuracy: 0.8531\n",
            "Epoch 91/100\n",
            "536/536 [==============================] - 1s 2ms/step - loss: 0.3293 - accuracy: 0.8641 - val_loss: 0.3585 - val_accuracy: 0.8527\n",
            "Epoch 92/100\n",
            "536/536 [==============================] - 1s 2ms/step - loss: 0.3185 - accuracy: 0.8672 - val_loss: 0.3585 - val_accuracy: 0.8516\n",
            "Epoch 93/100\n",
            "536/536 [==============================] - 1s 2ms/step - loss: 0.3178 - accuracy: 0.8670 - val_loss: 0.3588 - val_accuracy: 0.8527\n",
            "Epoch 94/100\n",
            "536/536 [==============================] - 1s 2ms/step - loss: 0.3246 - accuracy: 0.8660 - val_loss: 0.3587 - val_accuracy: 0.8531\n",
            "Epoch 95/100\n",
            "536/536 [==============================] - 1s 2ms/step - loss: 0.3251 - accuracy: 0.8677 - val_loss: 0.3588 - val_accuracy: 0.8523\n",
            "Epoch 96/100\n",
            "536/536 [==============================] - 1s 2ms/step - loss: 0.3283 - accuracy: 0.8616 - val_loss: 0.3582 - val_accuracy: 0.8535\n",
            "Epoch 97/100\n",
            "536/536 [==============================] - 1s 2ms/step - loss: 0.3262 - accuracy: 0.8654 - val_loss: 0.3586 - val_accuracy: 0.8527\n",
            "Epoch 98/100\n",
            "536/536 [==============================] - 1s 2ms/step - loss: 0.3223 - accuracy: 0.8652 - val_loss: 0.3580 - val_accuracy: 0.8519\n",
            "Epoch 99/100\n",
            "536/536 [==============================] - 1s 2ms/step - loss: 0.3140 - accuracy: 0.8702 - val_loss: 0.3594 - val_accuracy: 0.8531\n",
            "Epoch 100/100\n",
            "536/536 [==============================] - 1s 2ms/step - loss: 0.3278 - accuracy: 0.8649 - val_loss: 0.3581 - val_accuracy: 0.8519\n"
          ],
          "name": "stdout"
        }
      ]
    },
    {
      "cell_type": "code",
      "metadata": {
        "colab": {
          "base_uri": "https://localhost:8080/",
          "height": 312
        },
        "id": "seglGRQVRPrX",
        "outputId": "f99590de-5061-473f-a9e5-9447c196da19"
      },
      "source": [
        "# list all data in history\r\n",
        "\r\n",
        "print(model_history.history.keys())\r\n",
        "# summarize history for accuracy\r\n",
        "plt.plot(model_history.history['accuracy'])\r\n",
        "plt.plot(model_history.history['val_accuracy'])\r\n",
        "plt.title('model accuracy')\r\n",
        "plt.ylabel('accuracy')\r\n",
        "plt.xlabel('epoch')\r\n",
        "plt.legend(['train', 'test'], loc='upper left')\r\n",
        "plt.show()\r\n",
        "\r\n"
      ],
      "execution_count": 28,
      "outputs": [
        {
          "output_type": "stream",
          "text": [
            "dict_keys(['loss', 'accuracy', 'val_loss', 'val_accuracy'])\n"
          ],
          "name": "stdout"
        },
        {
          "output_type": "display_data",
          "data": {
            "image/png": "[encoded data removed]",
            "text/plain": [
              "<Figure size 432x288 with 1 Axes>"
            ]
          },
          "metadata": {
            "tags": [],
            "needs_background": "light"
          }
        }
      ]
    },
    {
      "cell_type": "code",
      "metadata": {
        "colab": {
          "base_uri": "https://localhost:8080/",
          "height": 295
        },
        "id": "Zs11-BzqRzgp",
        "outputId": "c4fc26f1-954f-4d0d-dac9-3bf0920c1839"
      },
      "source": [
        "# summarize history for loss\r\n",
        "plt.plot(model_history.history['loss'])\r\n",
        "plt.plot(model_history.history['val_loss'])\r\n",
        "plt.title('model loss')\r\n",
        "plt.ylabel('loss')\r\n",
        "plt.xlabel('epoch')\r\n",
        "plt.legend(['train', 'test'], loc='upper left')\r\n",
        "plt.show()\r\n",
        "\r\n"
      ],
      "execution_count": 29,
      "outputs": [
        {
          "output_type": "display_data",
          "data": {
            "image/png": "[encoded data removed]",
            "text/plain": [
              "<Figure size 432x288 with 1 Axes>"
            ]
          },
          "metadata": {
            "tags": [],
            "needs_background": "light"
          }
        }
      ]
    },
    {
      "cell_type": "code",
      "metadata": {
        "id": "n4ZbOQbsR1IS"
      },
      "source": [
        "# Part 3 - Making the predictions and evaluating the model\r\n",
        "\r\n",
        "# Predicting the Test set results\r\n",
        "y_pred = classifier.predict(X_test)\r\n",
        "y_pred = (y_pred > 0.5)\r\n",
        "\r\n"
      ],
      "execution_count": 30,
      "outputs": []
    },
    {
      "cell_type": "code",
      "metadata": {
        "id": "SDLlIcq2R25V"
      },
      "source": [
        "# Making the Confusion Matrix\r\n",
        "from sklearn.metrics import confusion_matrix\r\n",
        "cm = confusion_matrix(y_test, y_pred)\r\n",
        "\r\n"
      ],
      "execution_count": 31,
      "outputs": []
    },
    {
      "cell_type": "code",
      "metadata": {
        "colab": {
          "base_uri": "https://localhost:8080/"
        },
        "id": "Ym_vv3hDR4Tk",
        "outputId": "2ace04dc-c01f-41eb-df69-8aa3fd6c2dd8"
      },
      "source": [
        "# Calculate the Accuracy\r\n",
        "from sklearn.metrics import accuracy_score\r\n",
        "score=accuracy_score(y_pred,y_test)\r\n",
        "print(score)"
      ],
      "execution_count": 33,
      "outputs": [
        {
          "output_type": "stream",
          "text": [
            "0.859\n"
          ],
          "name": "stdout"
        }
      ]
    }
  ]
}